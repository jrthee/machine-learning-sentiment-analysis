{
 "cells": [
  {
   "cell_type": "markdown",
   "metadata": {},
   "source": [
    "# Sentiment Analysis Using Deep Learning"
   ]
  },
  {
   "cell_type": "code",
   "execution_count": 1,
   "metadata": {
    "scrolled": true
   },
   "outputs": [
    {
     "name": "stdout",
     "output_type": "stream",
     "text": [
      "TensorFlow version: 1.14.0\n"
     ]
    }
   ],
   "source": [
    "import tensorflow as tf\n",
    "print(\"TensorFlow version: \" + tf.__version__)"
   ]
  },
  {
   "cell_type": "code",
   "execution_count": 2,
   "metadata": {},
   "outputs": [
    {
     "name": "stderr",
     "output_type": "stream",
     "text": [
      "Using TensorFlow backend.\n"
     ]
    }
   ],
   "source": [
    "import keras"
   ]
  },
  {
   "cell_type": "code",
   "execution_count": 3,
   "metadata": {},
   "outputs": [],
   "source": [
    "import os\n",
    "\n",
    "#C:\\Users\\jrmth\\Desktop\\Notebooks\\Sentiment Analysis\\aclImdb\n",
    "movie_data_path = '/Users/jrmth/Desktop/Notebooks/Sentiment Analysis/aclImdb/'\n",
    "movie_data_train_path = os.path.join(movie_data_path, 'train/')\n",
    "\n",
    "movie_labels = []\n",
    "movie_texts = []\n",
    "\n",
    "for label_type in ['neg/', 'pos/']:\n",
    "    movie_dir_name = os.path.join(movie_data_train_path, label_type)\n",
    "    for fname in os.listdir(movie_dir_name):\n",
    "        if fname[-4:] == '.txt':\n",
    "            file = os.path.join(movie_dir_name, fname)\n",
    "            movie_file = open(file, encoding=\"utf8\")\n",
    "            movie_texts.append(movie_file.read())\n",
    "            movie_file.close()\n",
    "            if label_type == 'neg':\n",
    "                movie_labels.append(0)\n",
    "            else:\n",
    "                movie_labels.append(1)"
   ]
  },
  {
   "cell_type": "code",
   "execution_count": 4,
   "metadata": {},
   "outputs": [
    {
     "name": "stdout",
     "output_type": "stream",
     "text": [
      "Found 88582 unique tokens.\n",
      "Tensor shape for data: (25000, 200)\n",
      "Tensor shape for label: (25000,)\n"
     ]
    }
   ],
   "source": [
    "from keras.preprocessing.text import Tokenizer\n",
    "from keras.preprocessing.sequence import pad_sequences\n",
    "import numpy as np\n",
    "\n",
    "# We'll cut reviews after 200 words\n",
    "maxlen = 200\n",
    "\n",
    "# We'll be training on 12500 samples\n",
    "movie_training_samples = 12500\n",
    "\n",
    "# We'll be validating on 15000 samples\n",
    "movie_validation_samples = 15000\n",
    "\n",
    "# We'll only consider the top 15000 words in the dataset\n",
    "max_words = 15000\n",
    "\n",
    "tokenizer = Tokenizer(num_words=max_words)\n",
    "tokenizer.fit_on_texts(movie_texts)\n",
    "sequences = tokenizer.texts_to_sequences(movie_texts)\n",
    "\n",
    "word_index = tokenizer.word_index\n",
    "print('Found %s unique tokens.' % len(word_index))\n",
    "\n",
    "movie_data = pad_sequences(sequences, maxlen=maxlen)\n",
    "\n",
    "movie_labels = np.asarray(movie_labels)\n",
    "print('Tensor shape for data:', movie_data.shape)\n",
    "print('Tensor shape for label:', movie_labels.shape)\n",
    "\n",
    "# Split the data into a training set and a validation set\n",
    "# But first, shuffle the data, since we started from data\n",
    "# where sample are ordered (all negative first, then all positive).\n",
    "indices = np.arange(movie_data.shape[0])\n",
    "np.random.shuffle(indices)\n",
    "movie_data = movie_data[indices]\n",
    "movie_labels = movie_labels[indices]\n",
    "\n",
    "movie_data_train = movie_data[:movie_training_samples]\n",
    "\n",
    "movie_labels_train = movie_labels[:movie_training_samples]\n",
    "\n",
    "movie_data_val = movie_data[movie_training_samples: movie_training_samples + \n",
    "                            movie_validation_samples]\n",
    "movie_labels_val = movie_labels[movie_training_samples: movie_training_samples + \n",
    "                                movie_validation_samples]"
   ]
  }
 ],
 "metadata": {
  "kernelspec": {
   "display_name": "Python 3",
   "language": "python",
   "name": "python3"
  },
  "language_info": {
   "codemirror_mode": {
    "name": "ipython",
    "version": 3
   },
   "file_extension": ".py",
   "mimetype": "text/x-python",
   "name": "python",
   "nbconvert_exporter": "python",
   "pygments_lexer": "ipython3",
   "version": "3.6.8"
  }
 },
 "nbformat": 4,
 "nbformat_minor": 2
}
