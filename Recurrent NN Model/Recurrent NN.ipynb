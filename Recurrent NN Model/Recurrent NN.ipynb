{
 "cells": [
  {
   "cell_type": "markdown",
   "metadata": {},
   "source": [
    "# Sentiment Analysis Using Recurrent Neural Networks"
   ]
  },
  {
   "cell_type": "markdown",
   "metadata": {},
   "source": [
    "## RNN- SimpleRNN"
   ]
  },
  {
   "cell_type": "code",
   "execution_count": 1,
   "metadata": {},
   "outputs": [
    {
     "name": "stdout",
     "output_type": "stream",
     "text": [
      "TensorFlow version: 2.0.0\n"
     ]
    }
   ],
   "source": [
    "import tensorflow as tf\n",
    "print(\"TensorFlow version: \" + tf.__version__)"
   ]
  },
  {
   "cell_type": "code",
   "execution_count": 2,
   "metadata": {},
   "outputs": [
    {
     "name": "stderr",
     "output_type": "stream",
     "text": [
      "Using TensorFlow backend.\n"
     ]
    },
    {
     "name": "stdout",
     "output_type": "stream",
     "text": [
      "Keras version: 2.3.0\n"
     ]
    }
   ],
   "source": [
    "import keras\n",
    "print(\"Keras version: \" + keras.__version__)"
   ]
  },
  {
   "cell_type": "markdown",
   "metadata": {},
   "source": [
    "### Processing the labels of the raw movie data"
   ]
  },
  {
   "cell_type": "code",
   "execution_count": 3,
   "metadata": {},
   "outputs": [],
   "source": [
    "import os\n",
    "\n",
    "movies_dir = '/Users/jrmth/Desktop/Notebooks/Sentiment Analysis/aclImdb/'\n",
    "movies_train_dir = os.path.join(movies_dir, 'train')\n",
    "\n",
    "movie_labels = []\n",
    "movie_texts = []\n",
    "\n",
    "for label_type in ['neg', 'pos']:\n",
    "    movie_dir_name = os.path.join(movies_train_dir, label_type)\n",
    "    for fname in os.listdir(movie_dir_name):\n",
    "        if fname[-4:] == '.txt':\n",
    "            file = os.path.join(movie_dir_name, fname)\n",
    "            movie_file = open(file, encoding=\"utf8\")\n",
    "            movie_texts.append(movie_file.read())\n",
    "            movie_file.close()\n",
    "            if label_type == 'neg':\n",
    "                movie_labels.append(0)\n",
    "            else:\n",
    "                movie_labels.append(1)"
   ]
  },
  {
   "cell_type": "markdown",
   "metadata": {},
   "source": [
    "### Tokenizing the text of the raw movie data"
   ]
  },
  {
   "cell_type": "code",
   "execution_count": 4,
   "metadata": {},
   "outputs": [
    {
     "name": "stdout",
     "output_type": "stream",
     "text": [
      "Found 88582 unique tokens.\n",
      "Tensor shape for data: (25000, 200)\n",
      "Tensor shape for label: (25000,)\n"
     ]
    }
   ],
   "source": [
    "from keras.preprocessing.text import Tokenizer\n",
    "from keras.preprocessing.sequence import pad_sequences\n",
    "import numpy as np\n",
    "\n",
    "# We'll cut reviews after 200 words\n",
    "maxlen = 200\n",
    "\n",
    "# We'll be training on 12500 samples\n",
    "movie_training_samples = 125000\n",
    "\n",
    "# We'll be validating on 15000 samples\n",
    "movie_validation_samples = 15000\n",
    "\n",
    "# We'll only consider the top 15000 words in the dataset\n",
    "max_words = 15000\n",
    "\n",
    "tokenizer = Tokenizer(num_words=max_words)\n",
    "tokenizer.fit_on_texts(movie_texts)\n",
    "sequences = tokenizer.texts_to_sequences(movie_texts)\n",
    "\n",
    "word_index = tokenizer.word_index\n",
    "print('Found %s unique tokens.' % len(word_index))\n",
    "\n",
    "movie_data = pad_sequences(sequences, maxlen=maxlen)\n",
    "\n",
    "movie_labels = np.asarray(movie_labels)\n",
    "print('Tensor shape for data:', movie_data.shape)\n",
    "print('Tensor shape for label:', movie_labels.shape)\n",
    "\n",
    "# Split the data into a training set and a validation set\n",
    "# But first, shuffle the data, since we started from data\n",
    "# where sample are ordered (all negative first, then all positive).\n",
    "indices = np.arange(movie_data.shape[0])\n",
    "np.random.shuffle(indices)\n",
    "movie_data = movie_data[indices]\n",
    "movie_labels = movie_labels[indices]\n",
    "\n",
    "movie_data_train = movie_data[:movie_training_samples]\n",
    "\n",
    "movie_labels_train = movie_labels[:movie_training_samples]\n",
    "\n",
    "movie_data_val = movie_data[movie_training_samples: movie_training_samples + \n",
    "                            movie_validation_samples]\n",
    "movie_labels_val = movie_labels[movie_training_samples: movie_training_samples + \n",
    "                                movie_validation_samples]"
   ]
  },
  {
   "cell_type": "markdown",
   "metadata": {},
   "source": [
    "### A first recurrent layer - SimpleRNN"
   ]
  },
  {
   "cell_type": "code",
   "execution_count": 5,
   "metadata": {},
   "outputs": [],
   "source": [
    "from keras.layers import SimpleRNN"
   ]
  },
  {
   "cell_type": "code",
   "execution_count": 6,
   "metadata": {},
   "outputs": [
    {
     "name": "stdout",
     "output_type": "stream",
     "text": [
      "Model: \"sequential_1\"\n",
      "_________________________________________________________________\n",
      "Layer (type)                 Output Shape              Param #   \n",
      "=================================================================\n",
      "embedding_1 (Embedding)      (None, None, 32)          640000    \n",
      "_________________________________________________________________\n",
      "simple_rnn_1 (SimpleRNN)     (None, 32)                2080      \n",
      "=================================================================\n",
      "Total params: 642,080\n",
      "Trainable params: 642,080\n",
      "Non-trainable params: 0\n",
      "_________________________________________________________________\n"
     ]
    }
   ],
   "source": [
    "from keras.models import Sequential\n",
    "from keras.layers import Embedding, SimpleRNN\n",
    "\n",
    "simple_rnn_model = Sequential()\n",
    "simple_rnn_model.add(Embedding(20000, 32))\n",
    "simple_rnn_model.add(SimpleRNN(32))\n",
    "simple_rnn_model.summary()"
   ]
  },
  {
   "cell_type": "code",
   "execution_count": 7,
   "metadata": {},
   "outputs": [
    {
     "name": "stdout",
     "output_type": "stream",
     "text": [
      "Model: \"sequential_2\"\n",
      "_________________________________________________________________\n",
      "Layer (type)                 Output Shape              Param #   \n",
      "=================================================================\n",
      "embedding_2 (Embedding)      (None, None, 32)          640000    \n",
      "_________________________________________________________________\n",
      "simple_rnn_2 (SimpleRNN)     (None, None, 32)          2080      \n",
      "=================================================================\n",
      "Total params: 642,080\n",
      "Trainable params: 642,080\n",
      "Non-trainable params: 0\n",
      "_________________________________________________________________\n"
     ]
    }
   ],
   "source": [
    "simple_rnn_model = Sequential()\n",
    "simple_rnn_model.add(Embedding(20000, 32))\n",
    "simple_rnn_model.add(SimpleRNN(32, return_sequences=True))\n",
    "simple_rnn_model.summary()"
   ]
  },
  {
   "cell_type": "code",
   "execution_count": 8,
   "metadata": {},
   "outputs": [
    {
     "name": "stdout",
     "output_type": "stream",
     "text": [
      "Model: \"sequential_3\"\n",
      "_________________________________________________________________\n",
      "Layer (type)                 Output Shape              Param #   \n",
      "=================================================================\n",
      "embedding_3 (Embedding)      (None, None, 32)          640000    \n",
      "_________________________________________________________________\n",
      "simple_rnn_3 (SimpleRNN)     (None, None, 32)          2080      \n",
      "_________________________________________________________________\n",
      "simple_rnn_4 (SimpleRNN)     (None, None, 32)          2080      \n",
      "_________________________________________________________________\n",
      "simple_rnn_5 (SimpleRNN)     (None, None, 32)          2080      \n",
      "_________________________________________________________________\n",
      "simple_rnn_6 (SimpleRNN)     (None, 32)                2080      \n",
      "=================================================================\n",
      "Total params: 648,320\n",
      "Trainable params: 648,320\n",
      "Non-trainable params: 0\n",
      "_________________________________________________________________\n"
     ]
    }
   ],
   "source": [
    "simple_rnn_model = Sequential()\n",
    "simple_rnn_model.add(Embedding(20000, 32))\n",
    "simple_rnn_model.add(SimpleRNN(32, return_sequences=True))\n",
    "simple_rnn_model.add(SimpleRNN(32, return_sequences=True))\n",
    "simple_rnn_model.add(SimpleRNN(32, return_sequences=True))\n",
    "simple_rnn_model.add(SimpleRNN(32))  # This last layer only returns the last outputs.\n",
    "simple_rnn_model.summary()"
   ]
  },
  {
   "cell_type": "code",
   "execution_count": 9,
   "metadata": {},
   "outputs": [
    {
     "name": "stderr",
     "output_type": "stream",
     "text": [
      "C:\\Users\\jrmth\\Anaconda3\\lib\\site-packages\\tensorflow_core\\python\\framework\\indexed_slices.py:424: UserWarning: Converting sparse IndexedSlices to a dense Tensor of unknown shape. This may consume a large amount of memory.\n",
      "  \"Converting sparse IndexedSlices to a dense Tensor of unknown shape. \"\n"
     ]
    },
    {
     "name": "stdout",
     "output_type": "stream",
     "text": [
      "Train on 20000 samples, validate on 5000 samples\n",
      "Epoch 1/10\n",
      "20000/20000 [==============================] - 19s 950us/step - loss: 0.6151 - acc: 0.6472 - val_loss: 0.4821 - val_acc: 0.7734\n",
      "Epoch 2/10\n",
      "20000/20000 [==============================] - 20s 980us/step - loss: 0.3845 - acc: 0.8388 - val_loss: 0.4630 - val_acc: 0.8070\n",
      "Epoch 3/10\n",
      "20000/20000 [==============================] - 17s 842us/step - loss: 0.2825 - acc: 0.8892 - val_loss: 0.3698 - val_acc: 0.8430\n",
      "Epoch 4/10\n",
      "20000/20000 [==============================] - 16s 811us/step - loss: 0.2010 - acc: 0.9255 - val_loss: 0.5729 - val_acc: 0.7318\n",
      "Epoch 5/10\n",
      "20000/20000 [==============================] - 17s 846us/step - loss: 0.1409 - acc: 0.9508 - val_loss: 0.5020 - val_acc: 0.8396\n",
      "Epoch 6/10\n",
      "20000/20000 [==============================] - 15s 767us/step - loss: 0.0876 - acc: 0.9714 - val_loss: 0.4594 - val_acc: 0.8584\n",
      "Epoch 7/10\n",
      "20000/20000 [==============================] - 17s 868us/step - loss: 0.0538 - acc: 0.9826 - val_loss: 0.5113 - val_acc: 0.8318\n",
      "Epoch 8/10\n",
      "20000/20000 [==============================] - 16s 788us/step - loss: 0.0317 - acc: 0.9905 - val_loss: 0.6413 - val_acc: 0.7864\n",
      "Epoch 9/10\n",
      "20000/20000 [==============================] - 17s 861us/step - loss: 0.0177 - acc: 0.9952 - val_loss: 0.6521 - val_acc: 0.8298\n",
      "Epoch 10/10\n",
      "20000/20000 [==============================] - 18s 895us/step - loss: 0.0121 - acc: 0.9967 - val_loss: 0.6960 - val_acc: 0.8166\n"
     ]
    }
   ],
   "source": [
    "from keras.layers import Dense\n",
    "\n",
    "simple_rnn_model = Sequential()\n",
    "simple_rnn_model.add(Embedding(max_words, 32))\n",
    "simple_rnn_model.add(SimpleRNN(32))\n",
    "simple_rnn_model.add(Dense(1, activation='sigmoid'))\n",
    "\n",
    "simple_rnn_model.compile(optimizer='rmsprop', loss='binary_crossentropy', metrics=['acc'])\n",
    "history = simple_rnn_model.fit(movie_data_train, movie_labels_train,\n",
    "                    epochs=10,\n",
    "                    batch_size=128,\n",
    "                    validation_split=0.2)\n",
    "simple_rnn_model.save_weights('simple_rnn_model.h5')"
   ]
  },
  {
   "cell_type": "code",
   "execution_count": 10,
   "metadata": {},
   "outputs": [],
   "source": [
    "%matplotlib inline"
   ]
  },
  {
   "cell_type": "code",
   "execution_count": 11,
   "metadata": {},
   "outputs": [
    {
     "data": {
      "image/png": "[encoded data removed]",
      "text/plain": [
       "<Figure size 432x288 with 1 Axes>"
      ]
     },
     "metadata": {
      "needs_background": "light"
     },
     "output_type": "display_data"
    },
    {
     "data": {
      "image/png": "[encoded data removed]",
      "text/plain": [
       "<Figure size 432x288 with 1 Axes>"
      ]
     },
     "metadata": {
      "needs_background": "light"
     },
     "output_type": "display_data"
    }
   ],
   "source": [
    "import matplotlib.pyplot as plt\n",
    "\n",
    "accuracy = history.history['acc']\n",
    "validation_accuracy = history.history['val_acc']\n",
    "loss = history.history['loss']\n",
    "validation_loss = history.history['val_loss']\n",
    "\n",
    "epochs = range(len(accuracy))\n",
    "\n",
    "plt.plot(epochs, accuracy, 'bo', label='Training acc')\n",
    "plt.plot(epochs, validation_accuracy, 'b', label='Validation acc')\n",
    "plt.title('Training and validation accuracy')\n",
    "plt.legend()\n",
    "\n",
    "plt.figure()\n",
    "\n",
    "plt.plot(epochs, loss, 'bo', label='Training loss')\n",
    "plt.plot(epochs, validation_loss, 'b', label='Validation loss')\n",
    "plt.title('Training and validation loss')\n",
    "plt.legend()\n",
    "\n",
    "plt.show()"
   ]
  },
  {
   "cell_type": "markdown",
   "metadata": {},
   "source": [
    "### Using Long-short memory (LSTM)"
   ]
  },
  {
   "cell_type": "code",
   "execution_count": 12,
   "metadata": {},
   "outputs": [
    {
     "name": "stderr",
     "output_type": "stream",
     "text": [
      "C:\\Users\\jrmth\\Anaconda3\\lib\\site-packages\\tensorflow_core\\python\\framework\\indexed_slices.py:424: UserWarning: Converting sparse IndexedSlices to a dense Tensor of unknown shape. This may consume a large amount of memory.\n",
      "  \"Converting sparse IndexedSlices to a dense Tensor of unknown shape. \"\n"
     ]
    },
    {
     "name": "stdout",
     "output_type": "stream",
     "text": [
      "Train on 20000 samples, validate on 5000 samples\n",
      "Epoch 1/10\n",
      "20000/20000 [==============================] - 42s 2ms/step - loss: 0.4768 - acc: 0.7731 - val_loss: 0.3824 - val_acc: 0.8334\n",
      "Epoch 2/10\n",
      "20000/20000 [==============================] - 37s 2ms/step - loss: 0.2674 - acc: 0.8959 - val_loss: 0.2779 - val_acc: 0.8938\n",
      "Epoch 3/10\n",
      "20000/20000 [==============================] - 38s 2ms/step - loss: 0.2020 - acc: 0.9260 - val_loss: 0.3781 - val_acc: 0.8396\n",
      "Epoch 4/10\n",
      "20000/20000 [==============================] - 43s 2ms/step - loss: 0.1724 - acc: 0.9370 - val_loss: 0.3215 - val_acc: 0.8628\n",
      "Epoch 5/10\n",
      "20000/20000 [==============================] - 44s 2ms/step - loss: 0.1451 - acc: 0.9474 - val_loss: 0.3322 - val_acc: 0.8762\n",
      "Epoch 6/10\n",
      "20000/20000 [==============================] - 46s 2ms/step - loss: 0.1220 - acc: 0.9572 - val_loss: 0.5147 - val_acc: 0.8602\n",
      "Epoch 7/10\n",
      "20000/20000 [==============================] - 40s 2ms/step - loss: 0.1077 - acc: 0.9629 - val_loss: 0.4212 - val_acc: 0.8740\n",
      "Epoch 8/10\n",
      "20000/20000 [==============================] - 36s 2ms/step - loss: 0.0951 - acc: 0.9682 - val_loss: 0.3443 - val_acc: 0.8812\n",
      "Epoch 9/10\n",
      "20000/20000 [==============================] - 38s 2ms/step - loss: 0.0822 - acc: 0.9725 - val_loss: 0.4437 - val_acc: 0.8654\n",
      "Epoch 10/10\n",
      "20000/20000 [==============================] - 37s 2ms/step - loss: 0.0744 - acc: 0.9752 - val_loss: 0.7141 - val_acc: 0.8258\n"
     ]
    }
   ],
   "source": [
    "from keras.layers import LSTM\n",
    "\n",
    "lstm_model = Sequential()\n",
    "lstm_model.add(Embedding(max_words, 32))\n",
    "lstm_model.add(LSTM(32))\n",
    "lstm_model.add(Dense(1, activation='sigmoid'))\n",
    "\n",
    "lstm_model.compile(optimizer='rmsprop',\n",
    "              loss='binary_crossentropy',\n",
    "              metrics=['acc'])\n",
    "history = lstm_model.fit(movie_data_train, movie_labels_train,\n",
    "                    epochs=10,\n",
    "                    batch_size=128,\n",
    "                    validation_split=0.2)\n",
    "lstm_model.save_weights('lstm_model.h5')"
   ]
  },
  {
   "cell_type": "code",
   "execution_count": 13,
   "metadata": {},
   "outputs": [
    {
     "data": {
      "image/png": "[encoded data removed]",
      "text/plain": [
       "<Figure size 432x288 with 1 Axes>"
      ]
     },
     "metadata": {
      "needs_background": "light"
     },
     "output_type": "display_data"
    },
    {
     "data": {
      "image/png": "[encoded data removed]",
      "text/plain": [
       "<Figure size 432x288 with 1 Axes>"
      ]
     },
     "metadata": {
      "needs_background": "light"
     },
     "output_type": "display_data"
    }
   ],
   "source": [
    "accuracy = history.history['acc']\n",
    "validation_accuracy = history.history['val_acc']\n",
    "loss = history.history['loss']\n",
    "validation_loss = history.history['val_loss']\n",
    "\n",
    "epochs = range(len(accuracy))\n",
    "\n",
    "plt.plot(epochs, accuracy, 'bo', label='Training acc')\n",
    "plt.plot(epochs, validation_accuracy, 'b', label='Validation acc')\n",
    "plt.title('Training and validation accuracy')\n",
    "plt.legend()\n",
    "\n",
    "plt.figure()\n",
    "\n",
    "plt.plot(epochs, loss, 'bo', label='Training loss')\n",
    "plt.plot(epochs, validation_loss, 'b', label='Validation loss')\n",
    "plt.title('Training and validation loss')\n",
    "plt.legend()\n",
    "\n",
    "plt.show()"
   ]
  },
  {
   "cell_type": "markdown",
   "metadata": {},
   "source": [
    "### Reversed-order LSTM"
   ]
  },
  {
   "cell_type": "code",
   "execution_count": 14,
   "metadata": {},
   "outputs": [
    {
     "name": "stderr",
     "output_type": "stream",
     "text": [
      "C:\\Users\\jrmth\\Anaconda3\\lib\\site-packages\\tensorflow_core\\python\\framework\\indexed_slices.py:424: UserWarning: Converting sparse IndexedSlices to a dense Tensor of unknown shape. This may consume a large amount of memory.\n",
      "  \"Converting sparse IndexedSlices to a dense Tensor of unknown shape. \"\n"
     ]
    },
    {
     "name": "stdout",
     "output_type": "stream",
     "text": [
      "Train on 20000 samples, validate on 5000 samples\n",
      "Epoch 1/10\n",
      "20000/20000 [==============================] - 53s 3ms/step - loss: 0.6522 - acc: 0.6099 - val_loss: 0.6204 - val_acc: 0.6922\n",
      "Epoch 2/10\n",
      "20000/20000 [==============================] - 53s 3ms/step - loss: 0.5864 - acc: 0.7211 - val_loss: 0.5455 - val_acc: 0.7536\n",
      "Epoch 3/10\n",
      "20000/20000 [==============================] - 53s 3ms/step - loss: 0.4688 - acc: 0.8124 - val_loss: 0.5302 - val_acc: 0.8018\n",
      "Epoch 4/10\n",
      "20000/20000 [==============================] - 52s 3ms/step - loss: 0.3668 - acc: 0.8679 - val_loss: 0.4083 - val_acc: 0.8560\n",
      "Epoch 5/10\n",
      "20000/20000 [==============================] - 52s 3ms/step - loss: 0.3043 - acc: 0.8951 - val_loss: 0.3427 - val_acc: 0.8652\n",
      "Epoch 6/10\n",
      "20000/20000 [==============================] - 54s 3ms/step - loss: 0.2590 - acc: 0.9149 - val_loss: 0.5947 - val_acc: 0.7726\n",
      "Epoch 7/10\n",
      "20000/20000 [==============================] - 51s 3ms/step - loss: 0.2181 - acc: 0.9333 - val_loss: 0.3552 - val_acc: 0.8748\n",
      "Epoch 8/10\n",
      "20000/20000 [==============================] - 50s 3ms/step - loss: 0.1964 - acc: 0.9391 - val_loss: 0.6313 - val_acc: 0.8278\n",
      "Epoch 9/10\n",
      "20000/20000 [==============================] - 52s 3ms/step - loss: 0.1740 - acc: 0.9446 - val_loss: 0.4656 - val_acc: 0.8648\n",
      "Epoch 10/10\n",
      "20000/20000 [==============================] - 53s 3ms/step - loss: 0.1542 - acc: 0.9499 - val_loss: 0.4241 - val_acc: 0.7968\n"
     ]
    }
   ],
   "source": [
    "from keras.preprocessing import sequence\n",
    "from keras import layers\n",
    "from keras.models import Sequential\n",
    "\n",
    "# Reverse sequences\n",
    "movie_data_train = [x[::-1] for x in movie_data_train]\n",
    "movie_data_val = [x[::-1] for x in movie_data_val]\n",
    "\n",
    "# Pad sequences\n",
    "movie_data_train = sequence.pad_sequences(movie_data_train, maxlen=maxlen)\n",
    "movie_data_val = sequence.pad_sequences(movie_data_val, maxlen=maxlen)\n",
    "\n",
    "reverse_order_lstm_model = Sequential()\n",
    "reverse_order_lstm_model.add(layers.Embedding(max_words, 128))\n",
    "reverse_order_lstm_model.add(layers.LSTM(32))\n",
    "reverse_order_lstm_model.add(layers.Dense(1, activation='sigmoid'))\n",
    "\n",
    "reverse_order_lstm_model.compile(optimizer='rmsprop',\n",
    "              loss='binary_crossentropy',\n",
    "              metrics=['acc'])\n",
    "history = reverse_order_lstm_model.fit(movie_data_train, movie_labels_train,\n",
    "                    epochs=10,\n",
    "                    batch_size=128,\n",
    "                    validation_split=0.2)\n",
    "reverse_order_lstm_model.save_weights('reverse_order_lstm_model.h5')"
   ]
  },
  {
   "cell_type": "markdown",
   "metadata": {},
   "source": [
    "### Bidirectional layer"
   ]
  },
  {
   "cell_type": "code",
   "execution_count": 15,
   "metadata": {},
   "outputs": [],
   "source": [
    "from keras import backend as K\n",
    "K.clear_session()"
   ]
  },
  {
   "cell_type": "code",
   "execution_count": 16,
   "metadata": {},
   "outputs": [
    {
     "name": "stderr",
     "output_type": "stream",
     "text": [
      "C:\\Users\\jrmth\\Anaconda3\\lib\\site-packages\\tensorflow_core\\python\\framework\\indexed_slices.py:424: UserWarning: Converting sparse IndexedSlices to a dense Tensor of unknown shape. This may consume a large amount of memory.\n",
      "  \"Converting sparse IndexedSlices to a dense Tensor of unknown shape. \"\n"
     ]
    },
    {
     "name": "stdout",
     "output_type": "stream",
     "text": [
      "Train on 20000 samples, validate on 5000 samples\n",
      "Epoch 1/10\n",
      "20000/20000 [==============================] - 64s 3ms/step - loss: 0.4992 - acc: 0.7696 - val_loss: 0.3997 - val_acc: 0.8498\n",
      "Epoch 2/10\n",
      "20000/20000 [==============================] - 62s 3ms/step - loss: 0.2882 - acc: 0.8896 - val_loss: 0.2932 - val_acc: 0.8812\n",
      "Epoch 3/10\n",
      "20000/20000 [==============================] - 63s 3ms/step - loss: 0.2175 - acc: 0.9183 - val_loss: 0.3812 - val_acc: 0.8672\n",
      "Epoch 4/10\n",
      "20000/20000 [==============================] - 65s 3ms/step - loss: 0.1808 - acc: 0.9359 - val_loss: 0.4338 - val_acc: 0.8518\n",
      "Epoch 5/10\n",
      "20000/20000 [==============================] - 66s 3ms/step - loss: 0.1553 - acc: 0.9449 - val_loss: 0.2902 - val_acc: 0.8852\n",
      "Epoch 6/10\n",
      "20000/20000 [==============================] - 78s 4ms/step - loss: 0.1302 - acc: 0.9545 - val_loss: 0.3997 - val_acc: 0.8732\n",
      "Epoch 7/10\n",
      "20000/20000 [==============================] - 80s 4ms/step - loss: 0.1134 - acc: 0.9617 - val_loss: 0.3265 - val_acc: 0.8738\n",
      "Epoch 8/10\n",
      "20000/20000 [==============================] - 72s 4ms/step - loss: 0.1003 - acc: 0.9657 - val_loss: 0.4659 - val_acc: 0.8308\n",
      "Epoch 9/10\n",
      "20000/20000 [==============================] - 64s 3ms/step - loss: 0.0882 - acc: 0.9693 - val_loss: 0.4734 - val_acc: 0.8732\n",
      "Epoch 10/10\n",
      "20000/20000 [==============================] - 63s 3ms/step - loss: 0.0779 - acc: 0.9736 - val_loss: 0.3664 - val_acc: 0.8764\n"
     ]
    }
   ],
   "source": [
    "bidirectional_model = Sequential()\n",
    "bidirectional_model.add(layers.Embedding(max_words, 32))\n",
    "bidirectional_model.add(layers.Bidirectional(layers.LSTM(32)))\n",
    "bidirectional_model.add(layers.Dense(1, activation='sigmoid'))\n",
    "\n",
    "bidirectional_model.compile(optimizer='rmsprop', \n",
    "                            loss='binary_crossentropy', metrics=['acc'])\n",
    "history = bidirectional_model.fit(movie_data_train, movie_labels_train,\n",
    "                    epochs=10, batch_size=128, validation_split=0.2)\n",
    "\n",
    "bidirectional_model.save_weights('bidirectional_model.h5')"
   ]
  },
  {
   "cell_type": "code",
   "execution_count": null,
   "metadata": {},
   "outputs": [],
   "source": []
  }
 ],
 "metadata": {
  "kernelspec": {
   "display_name": "Python 3",
   "language": "python",
   "name": "python3"
  },
  "language_info": {
   "codemirror_mode": {
    "name": "ipython",
    "version": 3
   },
   "file_extension": ".py",
   "mimetype": "text/x-python",
   "name": "python",
   "nbconvert_exporter": "python",
   "pygments_lexer": "ipython3",
   "version": "3.6.8"
  }
 },
 "nbformat": 4,
 "nbformat_minor": 2
}
