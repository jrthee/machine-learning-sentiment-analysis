{
 "cells": [
  {
   "cell_type": "markdown",
   "metadata": {},
   "source": [
    "# Sentiment Analysis Using Word Embeddings"
   ]
  },
  {
   "cell_type": "code",
   "execution_count": 1,
   "metadata": {
    "scrolled": false
   },
   "outputs": [
    {
     "name": "stdout",
     "output_type": "stream",
     "text": [
      "TensorFlow version: 2.0.0\n"
     ]
    }
   ],
   "source": [
    "import tensorflow as tf\n",
    "print(\"TensorFlow version: \" + tf.__version__)"
   ]
  },
  {
   "cell_type": "code",
   "execution_count": 2,
   "metadata": {
    "scrolled": true
   },
   "outputs": [
    {
     "name": "stdout",
     "output_type": "stream",
     "text": [
      "Keras version: 2.3.0\n"
     ]
    },
    {
     "name": "stderr",
     "output_type": "stream",
     "text": [
      "Using TensorFlow backend.\n"
     ]
    }
   ],
   "source": [
    "import keras\n",
    "print(\"Keras version: \" + keras.__version__)"
   ]
  },
  {
   "cell_type": "markdown",
   "metadata": {},
   "source": [
    "### Processing the labels of the raw movie data"
   ]
  },
  {
   "cell_type": "code",
   "execution_count": 3,
   "metadata": {},
   "outputs": [],
   "source": [
    "import os\n",
    "\n",
    "movies_dir = '/Users/jrmth/Desktop/Notebooks/Sentiment Analysis/aclImdb/'\n",
    "movies_train_dir = os.path.join(movies_dir, 'train')\n",
    "\n",
    "movie_labels = []\n",
    "movie_texts = []\n",
    "\n",
    "for label_type in ['neg', 'pos']:\n",
    "    movie_dir_name = os.path.join(movies_train_dir, label_type)\n",
    "    for fname in os.listdir(movie_dir_name):\n",
    "        if fname[-4:] == '.txt':\n",
    "            file = os.path.join(movie_dir_name, fname)\n",
    "            movie_file = open(file, encoding=\"utf8\")\n",
    "            movie_texts.append(movie_file.read())\n",
    "            movie_file.close()\n",
    "            if label_type == 'neg':\n",
    "                movie_labels.append(0)\n",
    "            else:\n",
    "                movie_labels.append(1)"
   ]
  },
  {
   "cell_type": "markdown",
   "metadata": {},
   "source": [
    "### Tokenizing the text of the raw movie data"
   ]
  },
  {
   "cell_type": "code",
   "execution_count": 4,
   "metadata": {},
   "outputs": [
    {
     "name": "stdout",
     "output_type": "stream",
     "text": [
      "Found 88582 unique tokens.\n",
      "Tensor shape for data: (25000, 200)\n",
      "Tensor shape for label: (25000,)\n"
     ]
    }
   ],
   "source": [
    "from keras.preprocessing.text import Tokenizer\n",
    "from keras.preprocessing.sequence import pad_sequences\n",
    "import numpy as np\n",
    "\n",
    "# We'll cut reviews after 200 words\n",
    "maxlen = 200\n",
    "\n",
    "# We'll be training on 12500 samples\n",
    "movie_training_samples = 12500\n",
    "\n",
    "# We'll be validating on 15000 samples\n",
    "movie_validation_samples = 15000\n",
    "\n",
    "# We'll only consider the top 15000 words in the dataset\n",
    "max_words = 15000\n",
    "\n",
    "tokenizer = Tokenizer(num_words=max_words)\n",
    "tokenizer.fit_on_texts(movie_texts)\n",
    "sequences = tokenizer.texts_to_sequences(movie_texts)\n",
    "\n",
    "word_index = tokenizer.word_index\n",
    "print('Found %s unique tokens.' % len(word_index))\n",
    "\n",
    "movie_data = pad_sequences(sequences, maxlen=maxlen)\n",
    "\n",
    "movie_labels = np.asarray(movie_labels)\n",
    "print('Tensor shape for data:', movie_data.shape)\n",
    "print('Tensor shape for label:', movie_labels.shape)\n",
    "\n",
    "# Split the data into a training set and a validation set\n",
    "# But first, shuffle the data, since we started from data\n",
    "# where sample are ordered (all negative first, then all positive).\n",
    "indices = np.arange(movie_data.shape[0])\n",
    "np.random.shuffle(indices)\n",
    "movie_data = movie_data[indices]\n",
    "movie_labels = movie_labels[indices]\n",
    "\n",
    "movie_data_train = movie_data[:movie_training_samples]\n",
    "\n",
    "movie_labels_train = movie_labels[:movie_training_samples]\n",
    "\n",
    "movie_data_val = movie_data[movie_training_samples: movie_training_samples + \n",
    "                            movie_validation_samples]\n",
    "movie_labels_val = movie_labels[movie_training_samples: movie_training_samples + \n",
    "                                movie_validation_samples]"
   ]
  },
  {
   "cell_type": "markdown",
   "metadata": {},
   "source": [
    "### Pre-process the embeddings"
   ]
  },
  {
   "cell_type": "code",
   "execution_count": 5,
   "metadata": {},
   "outputs": [
    {
     "name": "stdout",
     "output_type": "stream",
     "text": [
      "There are 400000 word vectors.\n"
     ]
    }
   ],
   "source": [
    "glove_word_dir = '/Users/jrmth/Desktop/Notebooks/Sentiment Analysis/glove.6B/'\n",
    "\n",
    "word_embeddings_index = {}\n",
    "f = open(os.path.join(glove_word_dir, 'glove.6B.100d.txt'), encoding=\"utf8\")\n",
    "for line in f:\n",
    "    values = line.split()\n",
    "    word = values[0]\n",
    "    coefs = np.asarray(values[1:], dtype='float32')\n",
    "    word_embeddings_index[word] = coefs\n",
    "f.close()\n",
    "\n",
    "print('There are %s word vectors.' % len(word_embeddings_index))"
   ]
  },
  {
   "cell_type": "markdown",
   "metadata": {},
   "source": [
    "### Preparing the GloVe word-embeddings matrix"
   ]
  },
  {
   "cell_type": "code",
   "execution_count": 6,
   "metadata": {},
   "outputs": [],
   "source": [
    "word_embedding_dim = 100\n",
    "\n",
    "word_embedding_matrix = np.zeros((max_words, word_embedding_dim))\n",
    "for word, i in word_index.items():\n",
    "    word_embedding_vector = word_embeddings_index.get(word)\n",
    "    if i < max_words:\n",
    "        if word_embedding_vector is not None:\n",
    "            # Words not found in embedding index will be all-zeros.\n",
    "            word_embedding_matrix[i] = word_embedding_vector"
   ]
  },
  {
   "cell_type": "markdown",
   "metadata": {},
   "source": [
    "### Define a model"
   ]
  },
  {
   "cell_type": "code",
   "execution_count": 7,
   "metadata": {},
   "outputs": [
    {
     "name": "stdout",
     "output_type": "stream",
     "text": [
      "Model: \"sequential_1\"\n",
      "_________________________________________________________________\n",
      "Layer (type)                 Output Shape              Param #   \n",
      "=================================================================\n",
      "embedding_1 (Embedding)      (None, 200, 100)          1500000   \n",
      "_________________________________________________________________\n",
      "flatten_1 (Flatten)          (None, 20000)             0         \n",
      "_________________________________________________________________\n",
      "dense_1 (Dense)              (None, 32)                640032    \n",
      "_________________________________________________________________\n",
      "dense_2 (Dense)              (None, 1)                 33        \n",
      "=================================================================\n",
      "Total params: 2,140,065\n",
      "Trainable params: 2,140,065\n",
      "Non-trainable params: 0\n",
      "_________________________________________________________________\n"
     ]
    }
   ],
   "source": [
    "from keras.models import Sequential\n",
    "from keras.layers import Embedding, Flatten, Dense\n",
    "\n",
    "word_embedding_model = Sequential()\n",
    "word_embedding_model.add(Embedding(max_words, word_embedding_dim, input_length=maxlen))\n",
    "word_embedding_model.add(Flatten())\n",
    "word_embedding_model.add(Dense(32, activation='relu'))\n",
    "word_embedding_model.add(Dense(1, activation='sigmoid'))\n",
    "word_embedding_model.summary()"
   ]
  },
  {
   "cell_type": "markdown",
   "metadata": {},
   "source": [
    "### Load the GloVe embeddings in the model"
   ]
  },
  {
   "cell_type": "code",
   "execution_count": 8,
   "metadata": {},
   "outputs": [],
   "source": [
    "word_embedding_model.layers[0].set_weights([word_embedding_matrix])\n",
    "word_embedding_model.layers[0].trainable = False"
   ]
  },
  {
   "cell_type": "markdown",
   "metadata": {},
   "source": [
    "### Train and evaluate"
   ]
  },
  {
   "cell_type": "code",
   "execution_count": 9,
   "metadata": {},
   "outputs": [
    {
     "name": "stdout",
     "output_type": "stream",
     "text": [
      "Train on 12500 samples, validate on 12500 samples\n",
      "Epoch 1/10\n",
      "12500/12500 [==============================] - 9s 744us/step - loss: 0.6698 - acc: 0.6198 - val_loss: 0.5815 - val_acc: 0.7034\n",
      "Epoch 2/10\n",
      "12500/12500 [==============================] - 8s 603us/step - loss: 0.5092 - acc: 0.7584 - val_loss: 0.5750 - val_acc: 0.7014\n",
      "Epoch 3/10\n",
      "12500/12500 [==============================] - 8s 631us/step - loss: 0.4076 - acc: 0.8170 - val_loss: 0.6910 - val_acc: 0.6729 - loss: 0.4006 - acc: 0 - ETA: 5s - los - ETA: 3s  - ETA: 1s - loss: 0.41 - ETA: 0s - loss: 0.4073 \n",
      "Epoch 4/10\n",
      "12500/12500 [==============================] - 8s 655us/step - loss: 0.3309 - acc: 0.8584 - val_loss: 0.5965 - val_acc: 0.7234\n",
      "Epoch 5/10\n",
      "12500/12500 [==============================] - 7s 539us/step - loss: 0.2789 - acc: 0.8818 - val_loss: 0.6430 - val_acc: 0.7219\n",
      "Epoch 6/10\n",
      "12500/12500 [==============================] - 7s 554us/step - loss: 0.2198 - acc: 0.9145 - val_loss: 0.7268 - val_acc: 0.7154\n",
      "Epoch 7/10\n",
      "12500/12500 [==============================] - 7s 548us/step - loss: 0.1698 - acc: 0.9354 - val_loss: 0.8045 - val_acc: 0.7132\n",
      "Epoch 8/10\n",
      "12500/12500 [==============================] - 7s 547us/step - loss: 0.1263 - acc: 0.9528 - val_loss: 0.9380 - val_acc: 0.7013\n",
      "Epoch 9/10\n",
      "12500/12500 [==============================] - 7s 534us/step - loss: 0.0919 - acc: 0.9677 - val_loss: 1.0588 - val_acc: 0.7048\n",
      "Epoch 10/10\n",
      "12500/12500 [==============================] - 7s 533us/step - loss: 0.0659 - acc: 0.9774 - val_loss: 1.0886 - val_acc: 0.7036\n"
     ]
    }
   ],
   "source": [
    "word_embedding_model.compile(optimizer='rmsprop',\n",
    "             loss='binary_crossentropy',\n",
    "             metrics=['acc'])\n",
    "\n",
    "history = word_embedding_model.fit(movie_data_train, movie_labels_train,\n",
    "                   epochs=10,\n",
    "                   batch_size=32,\n",
    "                   validation_data=(movie_data_val, movie_labels_val))\n",
    "\n",
    "word_embedding_model.save_weights('pre_trained_glove_model.h5')"
   ]
  },
  {
   "cell_type": "markdown",
   "metadata": {},
   "source": [
    "### Plotting the results"
   ]
  },
  {
   "cell_type": "code",
   "execution_count": 10,
   "metadata": {},
   "outputs": [],
   "source": [
    "# this is to render graphs in the notebook\n",
    "%matplotlib inline "
   ]
  },
  {
   "cell_type": "code",
   "execution_count": 11,
   "metadata": {},
   "outputs": [
    {
     "data": {
      "image/png": "[encoded data removed]",
      "text/plain": [
       "<Figure size 432x288 with 1 Axes>"
      ]
     },
     "metadata": {
      "needs_background": "light"
     },
     "output_type": "display_data"
    },
    {
     "data": {
      "image/png": "[encoded data removed]",
      "text/plain": [
       "<Figure size 432x288 with 1 Axes>"
      ]
     },
     "metadata": {
      "needs_background": "light"
     },
     "output_type": "display_data"
    }
   ],
   "source": [
    "import matplotlib.pyplot as plt\n",
    "\n",
    "accuracy = history.history['acc']\n",
    "validation_accuracy = history.history['val_acc']\n",
    "loss = history.history['loss']\n",
    "validation_loss = history.history['val_loss']\n",
    "\n",
    "epochs = range(1, len(accuracy) + 1)\n",
    "\n",
    "plt.plot(epochs, accuracy, 'bo', label='Training accuracy')\n",
    "plt.plot(epochs, validation_accuracy, 'b', label='Validation accuracy')\n",
    "plt.title('Training and validation accuracy')\n",
    "plt.legend()\n",
    "\n",
    "plt.figure()\n",
    "\n",
    "plt.plot(epochs, loss, 'bo', label='Training loss')\n",
    "plt.plot(epochs, validation_loss, 'b', label='Validation loss')\n",
    "plt.title('Training and validation loss')\n",
    "plt.legend()\n",
    "\n",
    "plt.show()"
   ]
  },
  {
   "cell_type": "markdown",
   "metadata": {},
   "source": [
    "### Training the same model without pretrained word embeddings"
   ]
  },
  {
   "cell_type": "code",
   "execution_count": 12,
   "metadata": {},
   "outputs": [
    {
     "name": "stdout",
     "output_type": "stream",
     "text": [
      "Model: \"sequential_2\"\n",
      "_________________________________________________________________\n",
      "Layer (type)                 Output Shape              Param #   \n",
      "=================================================================\n",
      "embedding_2 (Embedding)      (None, 200, 100)          1500000   \n",
      "_________________________________________________________________\n",
      "flatten_2 (Flatten)          (None, 20000)             0         \n",
      "_________________________________________________________________\n",
      "dense_3 (Dense)              (None, 32)                640032    \n",
      "_________________________________________________________________\n",
      "dense_4 (Dense)              (None, 1)                 33        \n",
      "=================================================================\n",
      "Total params: 2,140,065\n",
      "Trainable params: 2,140,065\n",
      "Non-trainable params: 0\n",
      "_________________________________________________________________\n"
     ]
    },
    {
     "name": "stderr",
     "output_type": "stream",
     "text": [
      "C:\\Users\\jrmth\\Anaconda3\\lib\\site-packages\\tensorflow_core\\python\\framework\\indexed_slices.py:424: UserWarning: Converting sparse IndexedSlices to a dense Tensor of unknown shape. This may consume a large amount of memory.\n",
      "  \"Converting sparse IndexedSlices to a dense Tensor of unknown shape. \"\n"
     ]
    },
    {
     "name": "stdout",
     "output_type": "stream",
     "text": [
      "Train on 12500 samples, validate on 12500 samples\n",
      "Epoch 1/10\n",
      "12500/12500 [==============================] - 19s 2ms/step - loss: 0.4659 - acc: 0.7609 - val_loss: 0.3255 - val_acc: 0.8618\n",
      "Epoch 2/10\n",
      "12500/12500 [==============================] - 23s 2ms/step - loss: 0.1010 - acc: 0.9654 - val_loss: 0.3967 - val_acc: 0.8446\n",
      "Epoch 3/10\n",
      "12500/12500 [==============================] - 20s 2ms/step - loss: 0.0079 - acc: 0.9983 - val_loss: 0.6171 - val_acc: 0.8291\n",
      "Epoch 4/10\n",
      "12500/12500 [==============================] - 19s 2ms/step - loss: 4.4032e-04 - acc: 0.9999 - val_loss: 0.7429 - val_acc: 0.8391\n",
      "Epoch 5/10\n",
      "12500/12500 [==============================] - 20s 2ms/step - loss: 5.2531e-06 - acc: 1.0000 - val_loss: 0.8949 - val_acc: 0.8363\n",
      "Epoch 6/10\n",
      "12500/12500 [==============================] - 19s 2ms/step - loss: 5.6920e-08 - acc: 1.0000 - val_loss: 0.9787 - val_acc: 0.8358\n",
      "Epoch 7/10\n",
      "12500/12500 [==============================] - 19s 2ms/step - loss: 8.1138e-09 - acc: 1.0000 - val_loss: 1.0100 - val_acc: 0.8372\n",
      "Epoch 8/10\n",
      "12500/12500 [==============================] - 19s 2ms/step - loss: 4.0886e-09 - acc: 1.0000 - val_loss: 1.0237 - val_acc: 0.8363\n",
      "Epoch 9/10\n",
      "12500/12500 [==============================] - 20s 2ms/step - loss: 3.1415e-09 - acc: 1.0000 - val_loss: 1.0353 - val_acc: 0.8361\n",
      "Epoch 10/10\n",
      "12500/12500 [==============================] - 23s 2ms/step - loss: 2.6252e-09 - acc: 1.0000 - val_loss: 1.0441 - val_acc: 0.8366\n"
     ]
    }
   ],
   "source": [
    "from keras.models import Sequential\n",
    "from keras.layers import Embedding, Flatten, Dense\n",
    "\n",
    "no_pretrained_model = Sequential()\n",
    "no_pretrained_model.add(Embedding(max_words, \n",
    "                                  word_embedding_dim, input_length=maxlen))\n",
    "no_pretrained_model.add(Flatten())\n",
    "no_pretrained_model.add(Dense(32, activation='relu'))\n",
    "no_pretrained_model.add(Dense(1, activation='sigmoid'))\n",
    "no_pretrained_model.summary()\n",
    "\n",
    "no_pretrained_model.compile(optimizer='rmsprop',\n",
    "             loss='binary_crossentropy',\n",
    "             metrics=['acc'])\n",
    "\n",
    "history = no_pretrained_model.fit(movie_data_train, movie_labels_train,\n",
    "                   epochs=10,\n",
    "                   batch_size=32,\n",
    "                   validation_data=(movie_data_val, movie_labels_val))\n",
    "no_pretrained_model.save_weights('no_pretrained_model.h5')"
   ]
  },
  {
   "cell_type": "markdown",
   "metadata": {},
   "source": [
    "### Plotting the results"
   ]
  },
  {
   "cell_type": "code",
   "execution_count": 13,
   "metadata": {},
   "outputs": [
    {
     "data": {
      "image/png": "[encoded data removed]",
      "text/plain": [
       "<Figure size 432x288 with 1 Axes>"
      ]
     },
     "metadata": {
      "needs_background": "light"
     },
     "output_type": "display_data"
    },
    {
     "data": {
      "image/png": "[encoded data removed]",
      "text/plain": [
       "<Figure size 432x288 with 1 Axes>"
      ]
     },
     "metadata": {
      "needs_background": "light"
     },
     "output_type": "display_data"
    }
   ],
   "source": [
    "accuracy = history.history['acc']\n",
    "validation_accuracy = history.history['val_acc']\n",
    "loss = history.history['loss']\n",
    "validation_loss = history.history['val_loss']\n",
    "\n",
    "epochs = range(1, len(accuracy) + 1)\n",
    "\n",
    "plt.plot(epochs, accuracy, 'bo', label='Training accuracy')\n",
    "plt.plot(epochs, validation_accuracy, 'b', label='Validation accuracy')\n",
    "plt.title('Training and validation accuracy')\n",
    "plt.legend()\n",
    "\n",
    "plt.figure()\n",
    "\n",
    "plt.plot(epochs, loss, 'bo', label='Training loss')\n",
    "plt.plot(epochs, validation_loss, 'b', label='Validation loss')\n",
    "plt.title('Training and validation loss')\n",
    "plt.legend()\n",
    "\n",
    "plt.show()"
   ]
  },
  {
   "cell_type": "markdown",
   "metadata": {},
   "source": [
    "### Tokenizing the data of the test set"
   ]
  },
  {
   "cell_type": "code",
   "execution_count": 14,
   "metadata": {},
   "outputs": [],
   "source": [
    "movie_test_dir = os.path.join(movies_dir, 'test')\n",
    "\n",
    "movie_labels = []\n",
    "movie_texts = []\n",
    "\n",
    "for label_type in ['neg', 'pos']:\n",
    "    movie_dir_name = os.path.join(movie_test_dir, label_type)\n",
    "    for fname in sorted(os.listdir(movie_dir_name)):\n",
    "        if fname[-4:] == '.txt':\n",
    "            movie_file = open(os.path.join(movie_dir_name, fname), encoding=\"utf8\")\n",
    "            movie_texts.append(movie_file.read())\n",
    "            movie_file.close()\n",
    "            if label_type == 'neg':\n",
    "                movie_labels.append(0)\n",
    "            else:\n",
    "                movie_labels.append(1)\n",
    "                \n",
    "sequences = tokenizer.texts_to_sequences(movie_texts)\n",
    "movie_data_test = pad_sequences(sequences, maxlen=maxlen)\n",
    "movie_labels_test = np.asarray(movie_labels)"
   ]
  },
  {
   "cell_type": "markdown",
   "metadata": {},
   "source": [
    "### Evaluating the model on the test set"
   ]
  },
  {
   "cell_type": "code",
   "execution_count": 15,
   "metadata": {},
   "outputs": [
    {
     "name": "stdout",
     "output_type": "stream",
     "text": [
      "25000/25000 [==============================] - 3s 121us/step\n"
     ]
    },
    {
     "data": {
      "text/plain": [
       "[1.0715475736516713, 0.7033600211143494]"
      ]
     },
     "execution_count": 15,
     "metadata": {},
     "output_type": "execute_result"
    }
   ],
   "source": [
    "word_embedding_model.load_weights('pre_trained_glove_model.h5')\n",
    "word_embedding_model.evaluate(movie_data_test, movie_labels_test)"
   ]
  },
  {
   "cell_type": "code",
   "execution_count": null,
   "metadata": {},
   "outputs": [],
   "source": []
  }
 ],
 "metadata": {
  "kernelspec": {
   "display_name": "Python 3",
   "language": "python",
   "name": "python3"
  },
  "language_info": {
   "codemirror_mode": {
    "name": "ipython",
    "version": 3
   },
   "file_extension": ".py",
   "mimetype": "text/x-python",
   "name": "python",
   "nbconvert_exporter": "python",
   "pygments_lexer": "ipython3",
   "version": "3.6.8"
  }
 },
 "nbformat": 4,
 "nbformat_minor": 2
}
