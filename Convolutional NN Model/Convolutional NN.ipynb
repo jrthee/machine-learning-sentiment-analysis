{
 "cells": [
  {
   "cell_type": "markdown",
   "metadata": {},
   "source": [
    "# Sentiment Analysis Using Convolutional Neural Networks"
   ]
  },
  {
   "cell_type": "markdown",
   "metadata": {},
   "source": [
    "### Implementing a 1D convnet"
   ]
  },
  {
   "cell_type": "code",
   "execution_count": 1,
   "metadata": {},
   "outputs": [
    {
     "name": "stdout",
     "output_type": "stream",
     "text": [
      "TensorFlow version: 2.0.0\n"
     ]
    }
   ],
   "source": [
    "import tensorflow as tf\n",
    "print(\"TensorFlow version: \" + tf.__version__)"
   ]
  },
  {
   "cell_type": "code",
   "execution_count": 2,
   "metadata": {},
   "outputs": [
    {
     "name": "stdout",
     "output_type": "stream",
     "text": [
      "Keras version: 2.3.0\n"
     ]
    },
    {
     "name": "stderr",
     "output_type": "stream",
     "text": [
      "Using TensorFlow backend.\n"
     ]
    }
   ],
   "source": [
    "import keras\n",
    "print(\"Keras version: \" + keras.__version__)"
   ]
  },
  {
   "cell_type": "markdown",
   "metadata": {},
   "source": [
    "### Processing the labels of the raw movie data"
   ]
  },
  {
   "cell_type": "code",
   "execution_count": 3,
   "metadata": {},
   "outputs": [],
   "source": [
    "import os\n",
    "\n",
    "movies_dir = '/Users/jrmth/Desktop/Notebooks/Sentiment Analysis/aclImdb/'\n",
    "movies_train_dir = os.path.join(movies_dir, 'train')\n",
    "\n",
    "movie_labels = []\n",
    "movie_texts = []\n",
    "\n",
    "for label_type in ['neg', 'pos']:\n",
    "    movie_dir_name = os.path.join(movies_train_dir, label_type)\n",
    "    for fname in os.listdir(movie_dir_name):\n",
    "        if fname[-4:] == '.txt':\n",
    "            file = os.path.join(movie_dir_name, fname)\n",
    "            movie_file = open(file, encoding=\"utf8\")\n",
    "            movie_texts.append(movie_file.read())\n",
    "            movie_file.close()\n",
    "            if label_type == 'neg':\n",
    "                movie_labels.append(0)\n",
    "            else:\n",
    "                movie_labels.append(1)"
   ]
  },
  {
   "cell_type": "markdown",
   "metadata": {},
   "source": [
    "### Tokenizing the text of the raw movie data"
   ]
  },
  {
   "cell_type": "code",
   "execution_count": 4,
   "metadata": {},
   "outputs": [
    {
     "name": "stdout",
     "output_type": "stream",
     "text": [
      "Found 88582 unique tokens.\n",
      "Tensor shape for data: (25000, 200)\n",
      "Tensor shape for label: (25000,)\n",
      "12500 train sequences\n",
      "12500 test sequences\n",
      "Pad sequences (samples x time)\n",
      "movie_data_train shape: (12500, 200)\n",
      "movie_data_val shape: (12500, 200)\n"
     ]
    }
   ],
   "source": [
    "from keras.preprocessing.text import Tokenizer\n",
    "from keras.preprocessing.sequence import pad_sequences\n",
    "from keras.preprocessing import sequence\n",
    "import numpy as np\n",
    "\n",
    "# We'll cut reviews after 200 words\n",
    "maxlen = 200\n",
    "\n",
    "# We'll be training on 12500 samples\n",
    "movie_training_samples = 12500\n",
    "\n",
    "# We'll be validating on 15000 samples\n",
    "movie_validation_samples = 15000\n",
    "\n",
    "# We'll only consider the top 15000 words in the dataset\n",
    "max_words = 15000\n",
    "\n",
    "tokenizer = Tokenizer(num_words=max_words)\n",
    "tokenizer.fit_on_texts(movie_texts)\n",
    "sequences = tokenizer.texts_to_sequences(movie_texts)\n",
    "\n",
    "word_index = tokenizer.word_index\n",
    "print('Found %s unique tokens.' % len(word_index))\n",
    "\n",
    "movie_data = pad_sequences(sequences, maxlen=maxlen)\n",
    "\n",
    "movie_labels = np.asarray(movie_labels)\n",
    "print('Tensor shape for data:', movie_data.shape)\n",
    "print('Tensor shape for label:', movie_labels.shape)\n",
    "\n",
    "# Split the data into a training set and a validation set\n",
    "# But first, shuffle the data, since we started from data\n",
    "# where sample are ordered (all negative first, then all positive).\n",
    "indices = np.arange(movie_data.shape[0])\n",
    "np.random.shuffle(indices)\n",
    "movie_data = movie_data[indices]\n",
    "movie_labels = movie_labels[indices]\n",
    "\n",
    "movie_data_train = movie_data[:movie_training_samples]\n",
    "\n",
    "movie_labels_train = movie_labels[:movie_training_samples]\n",
    "\n",
    "movie_data_val = movie_data[movie_training_samples: movie_training_samples + \n",
    "                            movie_validation_samples]\n",
    "movie_labels_val = movie_labels[movie_training_samples: movie_training_samples + \n",
    "                                movie_validation_samples]\n",
    "\n",
    "print(len(movie_data_train), 'train sequences')\n",
    "print(len(movie_data_val), 'test sequences')\n",
    "\n",
    "print('Pad sequences (samples x time)')\n",
    "movie_data_train = sequence.pad_sequences(movie_data_train, maxlen=maxlen)\n",
    "movie_data_val = sequence.pad_sequences(movie_data_val, maxlen=maxlen)\n",
    "print('movie_data_train shape:', movie_data_train.shape)\n",
    "print('movie_data_val shape:', movie_data_val.shape)"
   ]
  },
  {
   "cell_type": "markdown",
   "metadata": {},
   "source": [
    "### Define a model"
   ]
  },
  {
   "cell_type": "code",
   "execution_count": 5,
   "metadata": {},
   "outputs": [
    {
     "name": "stdout",
     "output_type": "stream",
     "text": [
      "Model: \"sequential_1\"\n",
      "_________________________________________________________________\n",
      "Layer (type)                 Output Shape              Param #   \n",
      "=================================================================\n",
      "embedding_1 (Embedding)      (None, 200, 128)          1920000   \n",
      "_________________________________________________________________\n",
      "conv1d_1 (Conv1D)            (None, 194, 32)           28704     \n",
      "_________________________________________________________________\n",
      "max_pooling1d_1 (MaxPooling1 (None, 38, 32)            0         \n",
      "_________________________________________________________________\n",
      "conv1d_2 (Conv1D)            (None, 32, 32)            7200      \n",
      "_________________________________________________________________\n",
      "global_max_pooling1d_1 (Glob (None, 32)                0         \n",
      "_________________________________________________________________\n",
      "dense_1 (Dense)              (None, 1)                 33        \n",
      "=================================================================\n",
      "Total params: 1,955,937\n",
      "Trainable params: 1,955,937\n",
      "Non-trainable params: 0\n",
      "_________________________________________________________________\n"
     ]
    },
    {
     "name": "stderr",
     "output_type": "stream",
     "text": [
      "C:\\Users\\jrmth\\Anaconda3\\lib\\site-packages\\tensorflow_core\\python\\framework\\indexed_slices.py:424: UserWarning: Converting sparse IndexedSlices to a dense Tensor of unknown shape. This may consume a large amount of memory.\n",
      "  \"Converting sparse IndexedSlices to a dense Tensor of unknown shape. \"\n"
     ]
    },
    {
     "name": "stdout",
     "output_type": "stream",
     "text": [
      "Train on 10000 samples, validate on 2500 samples\n",
      "Epoch 1/10\n",
      "10000/10000 [==============================] - 16s 2ms/step - loss: 0.7410 - acc: 0.5051 - val_loss: 0.6931 - val_acc: 0.5208\n",
      "Epoch 2/10\n",
      "10000/10000 [==============================] - 15s 2ms/step - loss: 0.6734 - acc: 0.6365 - val_loss: 0.6880 - val_acc: 0.5348\n",
      "Epoch 3/10\n",
      "10000/10000 [==============================] - 16s 2ms/step - loss: 0.6527 - acc: 0.7805 - val_loss: 0.6773 - val_acc: 0.5748\n",
      "Epoch 4/10\n",
      "10000/10000 [==============================] - 15s 2ms/step - loss: 0.6299 - acc: 0.8361 - val_loss: 0.6682 - val_acc: 0.6400\n",
      "Epoch 5/10\n",
      "10000/10000 [==============================] - 19s 2ms/step - loss: 0.6042 - acc: 0.8817 - val_loss: 0.6493 - val_acc: 0.7108\n",
      "Epoch 6/10\n",
      "10000/10000 [==============================] - 15s 2ms/step - loss: 0.5716 - acc: 0.8972 - val_loss: 0.6231 - val_acc: 0.7168\n",
      "Epoch 7/10\n",
      "10000/10000 [==============================] - 15s 2ms/step - loss: 0.5275 - acc: 0.8916 - val_loss: 0.5852 - val_acc: 0.7488\n",
      "Epoch 8/10\n",
      "10000/10000 [==============================] - 15s 2ms/step - loss: 0.4665 - acc: 0.8890 - val_loss: 0.5264 - val_acc: 0.7824\n",
      "Epoch 9/10\n",
      "10000/10000 [==============================] - 17s 2ms/step - loss: 0.3893 - acc: 0.8872 - val_loss: 0.4658 - val_acc: 0.8116\n",
      "Epoch 10/10\n",
      "10000/10000 [==============================] - 19s 2ms/step - loss: 0.3223 - acc: 0.8977 - val_loss: 0.4426 - val_acc: 0.8276\n"
     ]
    }
   ],
   "source": [
    "from keras.models import Sequential\n",
    "from keras import layers\n",
    "from keras.optimizers import RMSprop\n",
    "\n",
    "conv1D_model = Sequential()\n",
    "conv1D_model.add(layers.Embedding(max_words, 128, input_length=maxlen))\n",
    "conv1D_model.add(layers.Conv1D(32, 7, activation='relu'))\n",
    "conv1D_model.add(layers.MaxPooling1D(5))\n",
    "conv1D_model.add(layers.Conv1D(32, 7, activation='relu'))\n",
    "conv1D_model.add(layers.GlobalMaxPooling1D())\n",
    "conv1D_model.add(layers.Dense(1))\n",
    "\n",
    "conv1D_model.summary()\n",
    "\n",
    "conv1D_model.compile(optimizer=RMSprop(lr=1e-4),\n",
    "              loss='binary_crossentropy',\n",
    "              metrics=['acc'])\n",
    "history = conv1D_model.fit(movie_data_train, movie_labels_train,\n",
    "                    epochs=10,\n",
    "                    batch_size=128,\n",
    "                    validation_split=0.2)\n",
    "conv1D_model.save_weights('conv1D_model.h5')"
   ]
  },
  {
   "cell_type": "code",
   "execution_count": 6,
   "metadata": {},
   "outputs": [
    {
     "data": {
      "image/png": "[encoded data removed]",
      "text/plain": [
       "<Figure size 432x288 with 1 Axes>"
      ]
     },
     "metadata": {
      "needs_background": "light"
     },
     "output_type": "display_data"
    },
    {
     "data": {
      "image/png": "[encoded data removed]",
      "text/plain": [
       "<Figure size 432x288 with 1 Axes>"
      ]
     },
     "metadata": {
      "needs_background": "light"
     },
     "output_type": "display_data"
    }
   ],
   "source": [
    "%matplotlib inline\n",
    "\n",
    "import matplotlib.pyplot as plt\n",
    "\n",
    "accuracy = history.history['acc']\n",
    "validation_accuracy = history.history['val_acc']\n",
    "loss = history.history['loss']\n",
    "validation_loss = history.history['val_loss']\n",
    "\n",
    "epochs = range(len(accuracy))\n",
    "\n",
    "plt.plot(epochs, accuracy, 'bo', label='Training acc')\n",
    "plt.plot(epochs, validation_accuracy, 'b', label='Validation acc')\n",
    "plt.title('Training and validation accuracy')\n",
    "plt.legend()\n",
    "\n",
    "plt.figure()\n",
    "\n",
    "plt.plot(epochs, loss, 'bo', label='Training loss')\n",
    "plt.plot(epochs, validation_loss, 'b', label='Validation loss')\n",
    "plt.title('Training and validation loss')\n",
    "plt.legend()\n",
    "\n",
    "plt.show()"
   ]
  },
  {
   "cell_type": "code",
   "execution_count": 7,
   "metadata": {},
   "outputs": [],
   "source": [
    "movie_test_dir = os.path.join(movies_dir, 'test')\n",
    "\n",
    "movie_labels = []\n",
    "movie_texts = []\n",
    "\n",
    "for label_type in ['neg', 'pos']:\n",
    "    movie_dir_name = os.path.join(movie_test_dir, label_type)\n",
    "    for fname in sorted(os.listdir(movie_dir_name)):\n",
    "        if fname[-4:] == '.txt':\n",
    "            movie_file = open(os.path.join(movie_dir_name, fname), encoding=\"utf8\")\n",
    "            movie_texts.append(movie_file.read())\n",
    "            movie_file.close()\n",
    "            if label_type == 'neg':\n",
    "                movie_labels.append(0)\n",
    "            else:\n",
    "                movie_labels.append(1)\n",
    "                \n",
    "sequences = tokenizer.texts_to_sequences(movie_texts)\n",
    "movie_data_test = pad_sequences(sequences, maxlen=maxlen)\n",
    "movie_labels_test = np.asarray(movie_labels)"
   ]
  },
  {
   "cell_type": "code",
   "execution_count": 8,
   "metadata": {},
   "outputs": [
    {
     "name": "stdout",
     "output_type": "stream",
     "text": [
      "25000/25000 [==============================] - 8s 309us/step\n"
     ]
    },
    {
     "data": {
      "text/plain": [
       "[0.4393421235561371, 0.8149200081825256]"
      ]
     },
     "execution_count": 8,
     "metadata": {},
     "output_type": "execute_result"
    }
   ],
   "source": [
    "conv1D_model.load_weights('conv1D_model.h5')\n",
    "conv1D_model.evaluate(movie_data_test, movie_labels_test)"
   ]
  }
 ],
 "metadata": {
  "kernelspec": {
   "display_name": "Python 3",
   "language": "python",
   "name": "python3"
  },
  "language_info": {
   "codemirror_mode": {
    "name": "ipython",
    "version": 3
   },
   "file_extension": ".py",
   "mimetype": "text/x-python",
   "name": "python",
   "nbconvert_exporter": "python",
   "pygments_lexer": "ipython3",
   "version": "3.6.8"
  }
 },
 "nbformat": 4,
 "nbformat_minor": 2
}
